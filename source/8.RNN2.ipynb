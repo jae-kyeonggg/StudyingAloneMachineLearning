{
 "cells": [
  {
   "cell_type": "code",
   "execution_count": 1,
   "id": "7e57713b",
   "metadata": {},
   "outputs": [
    {
     "name": "stdout",
     "output_type": "stream",
     "text": [
      "Downloading data from https://storage.googleapis.com/tensorflow/tf-keras-datasets/imdb.npz\n",
      "17464789/17464789 [==============================] - 1s 0us/step\n"
     ]
    }
   ],
   "source": [
    "from tensorflow.keras.datasets import imdb\n",
    "(train_input, train_target), (test_input, test_target) = imdb.load_data(num_words = 500)"
   ]
  },
  {
   "cell_type": "code",
   "execution_count": 2,
   "id": "6511952d",
   "metadata": {},
   "outputs": [
    {
     "name": "stdout",
     "output_type": "stream",
     "text": [
      "(25000,) (25000,)\n"
     ]
    }
   ],
   "source": [
    "print(train_input.shape, test_input.shape)"
   ]
  },
  {
   "cell_type": "code",
   "execution_count": 11,
   "id": "2a0abcb3",
   "metadata": {},
   "outputs": [
    {
     "name": "stdout",
     "output_type": "stream",
     "text": [
      "218\n",
      "189\n",
      "141\n",
      "550\n",
      "147\n",
      "43\n",
      "123\n",
      "562\n",
      "233\n",
      "130\n"
     ]
    }
   ],
   "source": [
    "for i in range(10):\n",
    "    print(len(train_input[i]))"
   ]
  },
  {
   "cell_type": "code",
   "execution_count": 12,
   "id": "70d5a55f",
   "metadata": {},
   "outputs": [
    {
     "name": "stdout",
     "output_type": "stream",
     "text": [
      "[1, 14, 22, 16, 43, 2, 2, 2, 2, 65, 458, 2, 66, 2, 4, 173, 36, 256, 5, 25, 100, 43, 2, 112, 50, 2, 2, 9, 35, 480, 284, 5, 150, 4, 172, 112, 167, 2, 336, 385, 39, 4, 172, 2, 2, 17, 2, 38, 13, 447, 4, 192, 50, 16, 6, 147, 2, 19, 14, 22, 4, 2, 2, 469, 4, 22, 71, 87, 12, 16, 43, 2, 38, 76, 15, 13, 2, 4, 22, 17, 2, 17, 12, 16, 2, 18, 2, 5, 62, 386, 12, 8, 316, 8, 106, 5, 4, 2, 2, 16, 480, 66, 2, 33, 4, 130, 12, 16, 38, 2, 5, 25, 124, 51, 36, 135, 48, 25, 2, 33, 6, 22, 12, 215, 28, 77, 52, 5, 14, 407, 16, 82, 2, 8, 4, 107, 117, 2, 15, 256, 4, 2, 7, 2, 5, 2, 36, 71, 43, 2, 476, 26, 400, 317, 46, 7, 4, 2, 2, 13, 104, 88, 4, 381, 15, 297, 98, 32, 2, 56, 26, 141, 6, 194, 2, 18, 4, 226, 22, 21, 134, 476, 26, 480, 5, 144, 30, 2, 18, 51, 36, 28, 224, 92, 25, 104, 4, 226, 65, 16, 38, 2, 88, 12, 16, 283, 5, 16, 2, 113, 103, 32, 15, 16, 2, 19, 178, 32]\n"
     ]
    }
   ],
   "source": [
    "print(train_input[0])"
   ]
  },
  {
   "cell_type": "code",
   "execution_count": 13,
   "id": "a267e89a",
   "metadata": {},
   "outputs": [
    {
     "name": "stdout",
     "output_type": "stream",
     "text": [
      "[1 0 0 1 0 0 1 0 1 0 1 0 0 0 0 0 1 1 0 1]\n"
     ]
    }
   ],
   "source": [
    "print(train_target[:20])"
   ]
  },
  {
   "cell_type": "code",
   "execution_count": 14,
   "id": "7c903b51",
   "metadata": {},
   "outputs": [],
   "source": [
    "from sklearn.model_selection import train_test_split\n",
    "train_input, val_input, train_target, val_target = train_test_split(train_input, train_target, test_size = 0.2, random_state = 42)"
   ]
  },
  {
   "cell_type": "code",
   "execution_count": 15,
   "id": "db07be66",
   "metadata": {},
   "outputs": [],
   "source": [
    "import numpy as np\n",
    "lengths = np.array([len(x) for x in train_input])"
   ]
  },
  {
   "cell_type": "code",
   "execution_count": 17,
   "id": "ae646875",
   "metadata": {},
   "outputs": [
    {
     "name": "stdout",
     "output_type": "stream",
     "text": [
      "239.00925 178.0\n"
     ]
    }
   ],
   "source": [
    "print(np.mean(lengths), np.median(lengths))"
   ]
  },
  {
   "cell_type": "code",
   "execution_count": 18,
   "id": "63774f0e",
   "metadata": {},
   "outputs": [
    {
     "data": {
      "image/png": "[encoded data removed]",
      "text/plain": [
       "<Figure size 640x480 with 1 Axes>"
      ]
     },
     "metadata": {},
     "output_type": "display_data"
    }
   ],
   "source": [
    "import matplotlib.pyplot as plt\n",
    "plt.hist(lengths)\n",
    "plt.xlabel('length')\n",
    "plt.ylabel('frequency')\n",
    "plt.show()"
   ]
  },
  {
   "cell_type": "code",
   "execution_count": 20,
   "id": "20051269",
   "metadata": {},
   "outputs": [],
   "source": [
    "from tensorflow.keras.preprocessing.sequence import pad_sequences\n",
    "train_seq = pad_sequences(train_input, maxlen = 100)"
   ]
  },
  {
   "cell_type": "code",
   "execution_count": 21,
   "id": "eb592f6d",
   "metadata": {},
   "outputs": [
    {
     "name": "stdout",
     "output_type": "stream",
     "text": [
      "(20000, 100)\n"
     ]
    }
   ],
   "source": [
    "print(train_seq.shape)"
   ]
  },
  {
   "cell_type": "code",
   "execution_count": 22,
   "id": "d30eeb97",
   "metadata": {},
   "outputs": [
    {
     "name": "stdout",
     "output_type": "stream",
     "text": [
      "[ 10   4  20   9   2 364 352   5  45   6   2   2  33 269   8   2 142   2\n",
      "   5   2  17  73  17 204   5   2  19  55   2   2  92  66 104  14  20  93\n",
      "  76   2 151  33   4  58  12 188   2 151  12 215  69 224 142  73 237   6\n",
      "   2   7   2   2 188   2 103  14  31  10  10 451   7   2   5   2  80  91\n",
      "   2  30   2  34  14  20 151  50  26 131  49   2  84  46  50  37  80  79\n",
      "   6   2  46   7  14  20  10  10 470 158]\n"
     ]
    }
   ],
   "source": [
    "print(train_seq[0])"
   ]
  },
  {
   "cell_type": "code",
   "execution_count": 24,
   "id": "66e24296",
   "metadata": {},
   "outputs": [
    {
     "name": "stdout",
     "output_type": "stream",
     "text": [
      "[6, 2, 46, 7, 14, 20, 10, 10, 470, 158]\n"
     ]
    }
   ],
   "source": [
    "print(train_input[0][-10:])"
   ]
  },
  {
   "cell_type": "code",
   "execution_count": 25,
   "id": "832c5b3b",
   "metadata": {},
   "outputs": [
    {
     "name": "stdout",
     "output_type": "stream",
     "text": [
      "[  0   0   0   0   1   2 195  19  49   2   2 190   4   2 352   2 183  10\n",
      "  10  13  82  79   4   2  36  71 269   8   2  25  19  49   7   4   2   2\n",
      "   2   2   2  10  10  48  25  40   2  11   2   2  40   2   2   5   4   2\n",
      "   2  95  14 238  56 129   2  10  10  21   2  94 364 352   2   2  11 190\n",
      "  24 484   2   7  94 205 405  10  10  87   2  34  49   2   7   2   2   2\n",
      "   2   2 290   2  46  48  64  18   4   2]\n"
     ]
    }
   ],
   "source": [
    "print(train_seq[5])"
   ]
  },
  {
   "cell_type": "code",
   "execution_count": 26,
   "id": "ae19f7e0",
   "metadata": {},
   "outputs": [],
   "source": [
    "val_seq = pad_sequences(val_input, maxlen = 100)"
   ]
  },
  {
   "cell_type": "code",
   "execution_count": 28,
   "id": "09a93443",
   "metadata": {},
   "outputs": [],
   "source": [
    "from tensorflow import keras\n",
    "model = keras.Sequential()\n",
    "model.add(keras.layers.SimpleRNN(8, input_shape = (100, 500)))\n",
    "model.add(keras.layers.Dense(1, activation = 'sigmoid'))"
   ]
  },
  {
   "cell_type": "code",
   "execution_count": 29,
   "id": "340a6184",
   "metadata": {},
   "outputs": [
    {
     "name": "stdout",
     "output_type": "stream",
     "text": [
      "(20000, 100, 500)\n"
     ]
    }
   ],
   "source": [
    "train_oh = keras.utils.to_categorical(train_seq)\n",
    "print(train_oh.shape)"
   ]
  },
  {
   "cell_type": "code",
   "execution_count": 30,
   "id": "ca980db5",
   "metadata": {},
   "outputs": [
    {
     "name": "stdout",
     "output_type": "stream",
     "text": [
      "[0. 0. 0. 0. 0. 0. 0. 0. 0. 0. 1. 0.]\n"
     ]
    }
   ],
   "source": [
    "print(train_oh[0][0][:12])"
   ]
  },
  {
   "cell_type": "code",
   "execution_count": 31,
   "id": "5b4441c1",
   "metadata": {},
   "outputs": [
    {
     "name": "stdout",
     "output_type": "stream",
     "text": [
      "1.0\n"
     ]
    }
   ],
   "source": [
    "print(np.sum(train_oh[0][0]))"
   ]
  },
  {
   "cell_type": "code",
   "execution_count": 32,
   "id": "f08d4433",
   "metadata": {},
   "outputs": [],
   "source": [
    "val_oh = keras.utils.to_categorical(val_seq)"
   ]
  },
  {
   "cell_type": "code",
   "execution_count": 33,
   "id": "98fd9496",
   "metadata": {},
   "outputs": [
    {
     "name": "stdout",
     "output_type": "stream",
     "text": [
      "Model: \"sequential_1\"\n",
      "_________________________________________________________________\n",
      " Layer (type)                Output Shape              Param #   \n",
      "=================================================================\n",
      " simple_rnn (SimpleRNN)      (None, 8)                 4072      \n",
      "                                                                 \n",
      " dense (Dense)               (None, 1)                 9         \n",
      "                                                                 \n",
      "=================================================================\n",
      "Total params: 4,081\n",
      "Trainable params: 4,081\n",
      "Non-trainable params: 0\n",
      "_________________________________________________________________\n"
     ]
    }
   ],
   "source": [
    "model.summary()"
   ]
  },
  {
   "cell_type": "code",
   "execution_count": 35,
   "id": "424500a5",
   "metadata": {},
   "outputs": [
    {
     "name": "stdout",
     "output_type": "stream",
     "text": [
      "Epoch 1/100\n",
      "313/313 [==============================] - 5s 14ms/step - loss: 0.7017 - accuracy: 0.4928 - val_loss: 0.6995 - val_accuracy: 0.4922\n",
      "Epoch 2/100\n",
      "313/313 [==============================] - 4s 13ms/step - loss: 0.6968 - accuracy: 0.4999 - val_loss: 0.6971 - val_accuracy: 0.4914\n",
      "Epoch 3/100\n",
      "313/313 [==============================] - 4s 13ms/step - loss: 0.6939 - accuracy: 0.5102 - val_loss: 0.6954 - val_accuracy: 0.4978\n",
      "Epoch 4/100\n",
      "313/313 [==============================] - 4s 13ms/step - loss: 0.6917 - accuracy: 0.5211 - val_loss: 0.6941 - val_accuracy: 0.5058\n",
      "Epoch 5/100\n",
      "313/313 [==============================] - 4s 13ms/step - loss: 0.6897 - accuracy: 0.5314 - val_loss: 0.6929 - val_accuracy: 0.5142\n",
      "Epoch 6/100\n",
      "313/313 [==============================] - 4s 12ms/step - loss: 0.6875 - accuracy: 0.5432 - val_loss: 0.6912 - val_accuracy: 0.5228\n",
      "Epoch 7/100\n",
      "313/313 [==============================] - 4s 13ms/step - loss: 0.6843 - accuracy: 0.5584 - val_loss: 0.6883 - val_accuracy: 0.5370\n",
      "Epoch 8/100\n",
      "313/313 [==============================] - 4s 13ms/step - loss: 0.6788 - accuracy: 0.5839 - val_loss: 0.6820 - val_accuracy: 0.5680\n",
      "Epoch 9/100\n",
      "313/313 [==============================] - 4s 13ms/step - loss: 0.6703 - accuracy: 0.6176 - val_loss: 0.6736 - val_accuracy: 0.6046\n",
      "Epoch 10/100\n",
      "313/313 [==============================] - 4s 13ms/step - loss: 0.6594 - accuracy: 0.6510 - val_loss: 0.6622 - val_accuracy: 0.6422\n",
      "Epoch 11/100\n",
      "313/313 [==============================] - 4s 13ms/step - loss: 0.6473 - accuracy: 0.6777 - val_loss: 0.6492 - val_accuracy: 0.6718\n",
      "Epoch 12/100\n",
      "313/313 [==============================] - 4s 13ms/step - loss: 0.6323 - accuracy: 0.6971 - val_loss: 0.6321 - val_accuracy: 0.6932\n",
      "Epoch 13/100\n",
      "313/313 [==============================] - 4s 13ms/step - loss: 0.6130 - accuracy: 0.7145 - val_loss: 0.6113 - val_accuracy: 0.7074\n",
      "Epoch 14/100\n",
      "313/313 [==============================] - 4s 12ms/step - loss: 0.5899 - accuracy: 0.7266 - val_loss: 0.5878 - val_accuracy: 0.7184\n",
      "Epoch 15/100\n",
      "313/313 [==============================] - 4s 13ms/step - loss: 0.5677 - accuracy: 0.7365 - val_loss: 0.5717 - val_accuracy: 0.7204\n",
      "Epoch 16/100\n",
      "313/313 [==============================] - 4s 13ms/step - loss: 0.5484 - accuracy: 0.7470 - val_loss: 0.5501 - val_accuracy: 0.7404\n",
      "Epoch 17/100\n",
      "313/313 [==============================] - 4s 13ms/step - loss: 0.5323 - accuracy: 0.7540 - val_loss: 0.5362 - val_accuracy: 0.7456\n",
      "Epoch 18/100\n",
      "313/313 [==============================] - 4s 13ms/step - loss: 0.5192 - accuracy: 0.7617 - val_loss: 0.5252 - val_accuracy: 0.7526\n",
      "Epoch 19/100\n",
      "313/313 [==============================] - 4s 13ms/step - loss: 0.5080 - accuracy: 0.7677 - val_loss: 0.5188 - val_accuracy: 0.7522\n",
      "Epoch 20/100\n",
      "313/313 [==============================] - 4s 13ms/step - loss: 0.4981 - accuracy: 0.7732 - val_loss: 0.5080 - val_accuracy: 0.7602\n",
      "Epoch 21/100\n",
      "313/313 [==============================] - 4s 13ms/step - loss: 0.4894 - accuracy: 0.7764 - val_loss: 0.5021 - val_accuracy: 0.7640\n",
      "Epoch 22/100\n",
      "313/313 [==============================] - 4s 13ms/step - loss: 0.4821 - accuracy: 0.7817 - val_loss: 0.5001 - val_accuracy: 0.7636\n",
      "Epoch 23/100\n",
      "313/313 [==============================] - 4s 12ms/step - loss: 0.4759 - accuracy: 0.7858 - val_loss: 0.4909 - val_accuracy: 0.7688\n",
      "Epoch 24/100\n",
      "313/313 [==============================] - 4s 13ms/step - loss: 0.4702 - accuracy: 0.7880 - val_loss: 0.4875 - val_accuracy: 0.7680\n",
      "Epoch 25/100\n",
      "313/313 [==============================] - 4s 12ms/step - loss: 0.4645 - accuracy: 0.7922 - val_loss: 0.4876 - val_accuracy: 0.7736\n",
      "Epoch 26/100\n",
      "313/313 [==============================] - 4s 13ms/step - loss: 0.4598 - accuracy: 0.7954 - val_loss: 0.4875 - val_accuracy: 0.7726\n",
      "Epoch 27/100\n",
      "313/313 [==============================] - 4s 13ms/step - loss: 0.4558 - accuracy: 0.7968 - val_loss: 0.4782 - val_accuracy: 0.7738\n",
      "Epoch 28/100\n",
      "313/313 [==============================] - 4s 13ms/step - loss: 0.4516 - accuracy: 0.7990 - val_loss: 0.4764 - val_accuracy: 0.7760\n",
      "Epoch 29/100\n",
      "313/313 [==============================] - 4s 13ms/step - loss: 0.4478 - accuracy: 0.8015 - val_loss: 0.4738 - val_accuracy: 0.7786\n",
      "Epoch 30/100\n",
      "313/313 [==============================] - 4s 13ms/step - loss: 0.4455 - accuracy: 0.8038 - val_loss: 0.4721 - val_accuracy: 0.7758\n",
      "Epoch 31/100\n",
      "313/313 [==============================] - 4s 12ms/step - loss: 0.4417 - accuracy: 0.8048 - val_loss: 0.4690 - val_accuracy: 0.7798\n",
      "Epoch 32/100\n",
      "313/313 [==============================] - 4s 12ms/step - loss: 0.4384 - accuracy: 0.8073 - val_loss: 0.4660 - val_accuracy: 0.7828\n",
      "Epoch 33/100\n",
      "313/313 [==============================] - 4s 12ms/step - loss: 0.4362 - accuracy: 0.8091 - val_loss: 0.4663 - val_accuracy: 0.7808\n",
      "Epoch 34/100\n",
      "313/313 [==============================] - 4s 12ms/step - loss: 0.4341 - accuracy: 0.8085 - val_loss: 0.4730 - val_accuracy: 0.7800\n",
      "Epoch 35/100\n",
      "313/313 [==============================] - 4s 13ms/step - loss: 0.4316 - accuracy: 0.8098 - val_loss: 0.4637 - val_accuracy: 0.7838\n",
      "Epoch 36/100\n",
      "313/313 [==============================] - 4s 13ms/step - loss: 0.4295 - accuracy: 0.8116 - val_loss: 0.4673 - val_accuracy: 0.7798\n",
      "Epoch 37/100\n",
      "313/313 [==============================] - 4s 13ms/step - loss: 0.4277 - accuracy: 0.8120 - val_loss: 0.4605 - val_accuracy: 0.7824\n",
      "Epoch 38/100\n",
      "313/313 [==============================] - 4s 13ms/step - loss: 0.4253 - accuracy: 0.8109 - val_loss: 0.4618 - val_accuracy: 0.7834\n",
      "Epoch 39/100\n",
      "313/313 [==============================] - 4s 13ms/step - loss: 0.4237 - accuracy: 0.8145 - val_loss: 0.4600 - val_accuracy: 0.7844\n",
      "Epoch 40/100\n",
      "313/313 [==============================] - 4s 13ms/step - loss: 0.4224 - accuracy: 0.8144 - val_loss: 0.4595 - val_accuracy: 0.7860\n",
      "Epoch 41/100\n",
      "313/313 [==============================] - 4s 12ms/step - loss: 0.4206 - accuracy: 0.8156 - val_loss: 0.4559 - val_accuracy: 0.7858\n",
      "Epoch 42/100\n",
      "313/313 [==============================] - 4s 13ms/step - loss: 0.4186 - accuracy: 0.8142 - val_loss: 0.4582 - val_accuracy: 0.7878\n",
      "Epoch 43/100\n",
      "313/313 [==============================] - 4s 13ms/step - loss: 0.4176 - accuracy: 0.8163 - val_loss: 0.4543 - val_accuracy: 0.7854\n",
      "Epoch 44/100\n",
      "313/313 [==============================] - 4s 13ms/step - loss: 0.4164 - accuracy: 0.8178 - val_loss: 0.4579 - val_accuracy: 0.7876\n",
      "Epoch 45/100\n",
      "313/313 [==============================] - 4s 13ms/step - loss: 0.4145 - accuracy: 0.8184 - val_loss: 0.4607 - val_accuracy: 0.7892\n",
      "Epoch 46/100\n",
      "313/313 [==============================] - 4s 13ms/step - loss: 0.4140 - accuracy: 0.8188 - val_loss: 0.4512 - val_accuracy: 0.7888\n",
      "Epoch 47/100\n",
      "313/313 [==============================] - 4s 13ms/step - loss: 0.4125 - accuracy: 0.8183 - val_loss: 0.4543 - val_accuracy: 0.7884\n",
      "Epoch 48/100\n",
      "313/313 [==============================] - 4s 13ms/step - loss: 0.4115 - accuracy: 0.8188 - val_loss: 0.4540 - val_accuracy: 0.7910\n",
      "Epoch 49/100\n",
      "313/313 [==============================] - 4s 12ms/step - loss: 0.4099 - accuracy: 0.8187 - val_loss: 0.4556 - val_accuracy: 0.7916\n"
     ]
    }
   ],
   "source": [
    "rmsprop = keras.optimizers.RMSprop(learning_rate = 1e-4)\n",
    "model.compile(optimizer = rmsprop, loss = 'binary_crossentropy', metrics = ['accuracy'])\n",
    "checkpoint_cb = keras.callbacks.ModelCheckpoint('best_simplernn-model.h5', save_best_only = True)\n",
    "early_stopping_cb = keras.callbacks.EarlyStopping(patience = 3, restore_best_weights = True)\n",
    "history = model.fit(train_oh, train_target, epochs = 100, batch_size = 64, validation_data = (val_oh, val_target), callbacks = [checkpoint_cb, early_stopping_cb])"
   ]
  },
  {
   "cell_type": "code",
   "execution_count": 36,
   "id": "7f4b446e",
   "metadata": {},
   "outputs": [
    {
     "data": {
      "image/png": "[encoded data removed]",
      "text/plain": [
       "<Figure size 640x480 with 1 Axes>"
      ]
     },
     "metadata": {},
     "output_type": "display_data"
    }
   ],
   "source": [
    "plt.plot(history.history['loss'])\n",
    "plt.plot(history.history['val_loss'])\n",
    "plt.xlabel('epoch')\n",
    "plt.ylabel('loss')\n",
    "plt.legend(['train', 'val'])\n",
    "plt.show()"
   ]
  },
  {
   "cell_type": "code",
   "execution_count": 37,
   "id": "50e7cc24",
   "metadata": {},
   "outputs": [
    {
     "name": "stdout",
     "output_type": "stream",
     "text": [
      "8000000 4000000000\n"
     ]
    }
   ],
   "source": [
    "print(train_seq.nbytes, train_oh.nbytes)"
   ]
  },
  {
   "cell_type": "code",
   "execution_count": 39,
   "id": "969d0bcf",
   "metadata": {},
   "outputs": [],
   "source": [
    "model2 = keras.Sequential()\n",
    "model2.add(keras.layers.Embedding(500, 16, input_length = 100))\n",
    "model2.add(keras.layers.SimpleRNN(8))\n",
    "model2.add(keras.layers.Dense(1, activation = 'sigmoid'))"
   ]
  },
  {
   "cell_type": "code",
   "execution_count": 40,
   "id": "0593fcb7",
   "metadata": {},
   "outputs": [
    {
     "name": "stdout",
     "output_type": "stream",
     "text": [
      "Model: \"sequential_3\"\n",
      "_________________________________________________________________\n",
      " Layer (type)                Output Shape              Param #   \n",
      "=================================================================\n",
      " embedding_1 (Embedding)     (None, 100, 16)           8000      \n",
      "                                                                 \n",
      " simple_rnn_1 (SimpleRNN)    (None, 8)                 200       \n",
      "                                                                 \n",
      " dense_1 (Dense)             (None, 1)                 9         \n",
      "                                                                 \n",
      "=================================================================\n",
      "Total params: 8,209\n",
      "Trainable params: 8,209\n",
      "Non-trainable params: 0\n",
      "_________________________________________________________________\n"
     ]
    }
   ],
   "source": [
    "model2.summary()"
   ]
  },
  {
   "cell_type": "code",
   "execution_count": null,
   "id": "057d3b1d",
   "metadata": {},
   "outputs": [
    {
     "name": "stdout",
     "output_type": "stream",
     "text": [
      "Epoch 1/100\n",
      "313/313 [==============================] - 4s 10ms/step - loss: 0.6940 - accuracy: 0.5134 - val_loss: 0.6902 - val_accuracy: 0.5280\n",
      "Epoch 2/100\n",
      "313/313 [==============================] - 3s 10ms/step - loss: 0.6889 - accuracy: 0.5407 - val_loss: 0.6866 - val_accuracy: 0.5488\n",
      "Epoch 3/100\n",
      "313/313 [==============================] - 3s 10ms/step - loss: 0.6832 - accuracy: 0.5667 - val_loss: 0.6823 - val_accuracy: 0.5572\n",
      "Epoch 4/100\n",
      " 55/313 [====>.........................] - ETA: 2s - loss: 0.6782 - accuracy: 0.5838"
     ]
    }
   ],
   "source": [
    "rmsprop = keras.optimizers.RMSprop(learning_rate = 1e-4)\n",
    "model2.compile(optimizer = rmsprop, loss = 'binary_crossentropy', metrics = ['accuracy'])\n",
    "checkpoint_cb = keras.callbacks.ModelCheckpoint('best-embedding-model.h5', save_best_only = True)\n",
    "early_stopping_cb = keras.callbacks.EarlyStopping(patience = 3, restore_best_weights = True)\n",
    "history = model2.fit(train_seq, train_target, epochs = 100, batch_size = 64, validation_data = (val_seq, val_target), callbacks = [checkpoint_cb, early_stopping_cb])"
   ]
  },
  {
   "cell_type": "code",
   "execution_count": null,
   "id": "50fa3e69",
   "metadata": {},
   "outputs": [],
   "source": []
  }
 ],
 "metadata": {
  "kernelspec": {
   "display_name": "Python 3 (ipykernel)",
   "language": "python",
   "name": "python3"
  },
  "language_info": {
   "codemirror_mode": {
    "name": "ipython",
    "version": 3
   },
   "file_extension": ".py",
   "mimetype": "text/x-python",
   "name": "python",
   "nbconvert_exporter": "python",
   "pygments_lexer": "ipython3",
   "version": "3.9.13"
  }
 },
 "nbformat": 4,
 "nbformat_minor": 5
}
